{
  "nbformat": 4,
  "nbformat_minor": 0,
  "metadata": {
    "colab": {
      "name": "IA_trabalho.ipynb",
      "provenance": [],
      "collapsed_sections": []
    },
    "kernelspec": {
      "name": "python3",
      "display_name": "Python 3"
    },
    "language_info": {
      "name": "python"
    }
  },
  "cells": [
    {
      "cell_type": "markdown",
      "metadata": {
        "id": "-Oyzh012cXcF"
      },
      "source": [
        "# Otimização de parâmetros em algoritmos de ML usando espaço de estados"
      ]
    },
    {
      "cell_type": "markdown",
      "metadata": {
        "id": "CXWN6Q3McbsM"
      },
      "source": [
        "# Grupo\n",
        "Caio Marcos Chaves Viana - 11208217 \\\\\n",
        "César Henrique de Araujo Guibo - 11218705 \\\\\n",
        "Leonardo Fonseca Pinheiro- 11219241 \\\\\n",
        "Maria Fernanda Lucio de Mello - 11320860 \\\\\n",
        "Paulo Matana da Rocha - 10892676 \\\\\n",
        "Victor Rodrigues Russo - 11218855"
      ]
    },
    {
      "cell_type": "markdown",
      "metadata": {
        "id": "E8jmpKBwcdq2"
      },
      "source": [
        "## Introdução\n",
        "\n",
        "A computação tradicional é baseada na criação de um algoritmo que recebe valores de entrada, os processe e gere uma saída. Já o aprendizado de máquina segue a ideia de automatizar essa criação, a partir de uma base de dados com pares de entrada (geralmente referida como X) e saída (chamada y). Assim, tentamos ajustar os parâmetros de um modelo, a fim de minimizar o erro dentro do seu banco, criando a capacidade de generalizá-lo para qualquer entrada. \n",
        "\n",
        "Um exemplo desse processo é a classificação onde, a partir de variáveis X, que podem ser discretas ou contínuas, atribuímos uma classe y. Um exemplo de classificação é, dada uma imagem com dígitos escritos a mão, classificar a qual classe tal dígito faz parte. \n",
        "\n",
        "Atualmente estes parâmetros de modelos são usualmente calculados por algoritmos numéricos, como o gradiente descendente. Mas a proposta do presente trabalho é aplicar as estratégias de busca vistas em aula para obter estes parâmetros. Ou seja, para cada configuração dos parâmetros temos um estado e então partindo de um estado inicial, vamos buscar uma configuração que obtenha acurácia superior a um valor determinado (estado final). "
      ]
    },
    {
      "cell_type": "markdown",
      "metadata": {
        "id": "NsCfeNyUfSbg"
      },
      "source": [
        "## A Regressão Logística"
      ]
    },
    {
      "cell_type": "markdown",
      "metadata": {
        "id": "UmSwvD_8fVH_"
      },
      "source": [
        "A regressão logística é um algoritmo de classificação que se baseia na ideia de encontrar um hiperplano que separe os dados no espaço. Por exemplo se tivermos apenas duas variáveis de entrada, queremos  encontrar uma reta que vai separar duas classes (geralmente referidas classes 0 e 1) no plano. "
      ]
    },
    {
      "cell_type": "markdown",
      "metadata": {
        "id": "LRjwtSabn6xw"
      },
      "source": [
        "![image.png](data:image/png;base64,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)"
      ]
    },
    {
      "cell_type": "markdown",
      "metadata": {
        "id": "Zz4kv-Q1n7O9"
      },
      "source": [
        "No nosso exemplo, o valor z é dado por:\n",
        "\n",
        "$$\n",
        "z = \\beta_1X_1 + \\beta_2X_2+\\beta_3\n",
        "$$"
      ]
    },
    {
      "cell_type": "markdown",
      "metadata": {
        "id": "kLIPZqw7obxt"
      },
      "source": [
        "Assim quando realizamos a regressão, nossa ideia é encontrar os melhores valores de $\\beta$ possíveis. "
      ]
    },
    {
      "cell_type": "markdown",
      "metadata": {
        "id": "83gozyXVpGHV"
      },
      "source": [
        "Mas como podemos ligar esse y com a probabilidade do nosso dado $(X_1,X_2)$  pertencer a classe positiva?\n"
      ]
    },
    {
      "cell_type": "markdown",
      "metadata": {
        "id": "PyE6YpaOpbXj"
      },
      "source": [
        "Podemos utilizar a função logística:"
      ]
    },
    {
      "cell_type": "markdown",
      "metadata": {
        "id": "-TxXxQajpjER"
      },
      "source": [
        "$$\n",
        "y = \\dfrac{1}{1+e^{-z}}\n",
        "$$\n",
        "\n",
        "Onde y é a probabilidade de $(X_1,X_2)$ pertencer a classe positiva. \n",
        "A função logística tranforma o valor z que varia de $(-\\infty,+\\infty)$ em um valor entre $(0,1)$."
      ]
    },
    {
      "cell_type": "markdown",
      "metadata": {
        "id": "3fuY3KKJqhuc"
      },
      "source": [
        "![image.png](data:image/png;base64,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)"
      ]
    },
    {
      "cell_type": "markdown",
      "metadata": {
        "id": "2RcxLoWdrMnY"
      },
      "source": [
        "Neste trabalho, iremos usar a regressão logística pela sua simplicidade e funcionamento intuitivo."
      ]
    },
    {
      "cell_type": "markdown",
      "metadata": {
        "id": "CZ3IXdRhqiRU"
      },
      "source": [
        "## Espaço de Estados\n",
        "\n",
        "Como dito anteriormente, vamos buscar estes parâmetros por meio de busca em grafo. Mas o que será nosso grafo? \n",
        "\n",
        "Nosso grafo será os possíveis valores de $\\beta$.\n",
        "\n",
        "O valores $\\beta_1,\\beta_2,...\\beta_n$ são contínuos, mas nós vamos quantizar eles para que possamos modelar nosso exemplo como um espaço de estados finito.\n",
        "\n",
        "Por exemplo, se tivermos uma regressão logística com apenas uma varíavel de entrada, teríamos:\n",
        "\n",
        "$$\n",
        "z = \\beta_1X_1 +\\beta_2\n",
        "$$"
      ]
    },
    {
      "cell_type": "markdown",
      "metadata": {
        "id": "xuDIOnM4rJRw"
      },
      "source": [
        "Então um exemplo de estado seria $(\\beta_1,\\beta_2) = (0,0)$. Assim adotando uma quantização de valor $0.1$, este estado tem como vizinho os seguintes estados:\n",
        "\n",
        "$$\n",
        "(0.1,0)\n",
        "$$\n",
        "$$\n",
        "(-0.1,0)\n",
        "$$\n",
        "$$\n",
        "(0,0.1)\n",
        "$$\n",
        "$$\n",
        "(0,0.1)\n",
        "$$"
      ]
    },
    {
      "cell_type": "markdown",
      "metadata": {
        "id": "FjkYsHoisHQ5"
      },
      "source": [
        "### Função de Transição"
      ]
    },
    {
      "cell_type": "markdown",
      "metadata": {
        "id": "O9rDIQ_HsLdK"
      },
      "source": [
        "Para cada estado $(\\alpha,\\beta)$, seu vértices adjacentes serão:\n",
        "\n",
        "$$\n",
        "(\\alpha+\\Delta,\\beta)\n",
        "$$\n",
        "$$\n",
        "(\\alpha-\\Delta,\\beta)\n",
        "$$\n",
        "$$\n",
        "(\\alpha,\\beta+\\Delta)\n",
        "$$\n",
        "$$\n",
        "(\\alpha,\\beta-\\Delta)\n",
        "$$\n"
      ]
    },
    {
      "cell_type": "markdown",
      "metadata": {
        "id": "3ZI-_PrEtbkt"
      },
      "source": [
        "![image.png](data:image/png;base64,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)"
      ]
    },
    {
      "cell_type": "markdown",
      "metadata": {
        "id": "MWxLy60Ftbqz"
      },
      "source": [
        "### Estado Inicial\n",
        "\n",
        "Para nossos testes iremos considerar o estado inicial sempre como a origem do espaço, ou seja, com todos os parâmetros setados para 0. Outras configurações poderiam ser estudadas."
      ]
    },
    {
      "cell_type": "markdown",
      "metadata": {
        "id": "uX0PhVoYtzcC"
      },
      "source": [
        "### Estados Finais\n",
        "\n",
        "Serão considerados estado finais do nosso grafo, aqueles onde a acurácia for acima de certo valor pré-definido. A acurácia é a porcentagem de exemplos que nosso modelo classifica de maneira correta. \n",
        "\n",
        "Para encontrarmos estes valores, deixamos o algoritmo rodar dentro de um intervalo bem grande e salvamos a melhor acurácia. "
      ]
    },
    {
      "cell_type": "markdown",
      "metadata": {
        "id": "tmqrR-G2uL0z"
      },
      "source": [
        "### Limitações no Espaço de Estados\n",
        "\n",
        "Como é fácil perceber, os parâmetros podem variar de $(-\\infty,+\\infty)$ o que nos daria um espaço de estados ilimitado. Para limitar o tempo de execução vamos considerar as buscas em um espaço limitado e caso não haja um ponto que satisfaça a acurácia neste espaço, pegamos o ponto de melhor acurácia. Podemos facilmente deixar sem limites, entretanto caso estejamos pedindo uma acurácia muito alta, corremos o risco desse algoritmo rodar para sempre."
      ]
    },
    {
      "cell_type": "markdown",
      "metadata": {
        "id": "Svb4ixK1In-x"
      },
      "source": [
        "## Motivação\n",
        "\n",
        "Apesar de parecer ingênuo e pouco eficiente realizar a otimização de parâmetros pelo método descrito quando existem métodos numéricos velozes para tal, podemos motivar tal abordagem pela necessidade da diferenciabilidade da função de custo que estes métodos exigem.\n",
        "\n",
        "Assim o método abordado baseado em espaço de estados pode fornecer um caminho para treinar modelos considerando uma função de custo não diferenciável. \n",
        "\n",
        "Além disso, quando algoritmos como o perceptron foram propostos, sua otimização também era baseado em ideias discretas, assim esta abordagem é um interessante exercício mental que nos permite compreender mais sobre otimização sob uma perspectiva histórica."
      ]
    },
    {
      "cell_type": "markdown",
      "metadata": {
        "id": "CVDIHaSrwNEr"
      },
      "source": [
        "## Classificando espécies de pinguim baseado no tamanho da nadadeira"
      ]
    },
    {
      "cell_type": "markdown",
      "metadata": {
        "id": "p-8AOYflw4zR"
      },
      "source": [
        "O dataset utilizado para a demonstação do algoritmo foi  o **Penguin dataset** (https://www.kaggle.com/parulpandey/penguin-dataset-the-new-iris), o dataset possui dois arquivos o utilizado nesse trabalho é o *penguins_size.csv*.\n",
        "\n",
        "Esse dataset possui informações sobre três espécies de pinguins encontrados no arquipélago Palmer (Antartica) Adelie, Chinstrap e Gentoo. Nossa intenção é usar as ideias de algoritmos descritas anteriormente para classificar os pinguins como pertencentes ou não à espécie Gentoo, com base no tamanho das nadadeiras."
      ]
    },
    {
      "cell_type": "code",
      "metadata": {
        "id": "TwGnKf0AxPUJ"
      },
      "source": [
        "#Bibliotecas usadas\n",
        "import pandas as pd\n",
        "from sklearn.model_selection import train_test_split\n",
        "from sklearn.preprocessing import MinMaxScaler\n",
        "from sklearn.metrics import accuracy_score, confusion_matrix, log_loss\n",
        "import matplotlib.pyplot as plt\n",
        "import seaborn as sns\n",
        "import numpy as np\n",
        "from queue import PriorityQueue"
      ],
      "execution_count": null,
      "outputs": []
    },
    {
      "cell_type": "markdown",
      "metadata": {
        "id": "3dt7EluH02pz"
      },
      "source": [
        "Importamos o dataset"
      ]
    },
    {
      "cell_type": "code",
      "metadata": {
        "colab": {
          "base_uri": "https://localhost:8080/",
          "height": 204
        },
        "id": "11m4fPLuxeS1",
        "outputId": "2a82a9eb-3ed8-4cf3-ba7a-31fb4748f5e4"
      },
      "source": [
        "df = pd.read_csv('penguins_size.csv')\n",
        "df.head()"
      ],
      "execution_count": null,
      "outputs": [
        {
          "output_type": "execute_result",
          "data": {
            "text/html": [
              "<div>\n",
              "<style scoped>\n",
              "    .dataframe tbody tr th:only-of-type {\n",
              "        vertical-align: middle;\n",
              "    }\n",
              "\n",
              "    .dataframe tbody tr th {\n",
              "        vertical-align: top;\n",
              "    }\n",
              "\n",
              "    .dataframe thead th {\n",
              "        text-align: right;\n",
              "    }\n",
              "</style>\n",
              "<table border=\"1\" class=\"dataframe\">\n",
              "  <thead>\n",
              "    <tr style=\"text-align: right;\">\n",
              "      <th></th>\n",
              "      <th>species</th>\n",
              "      <th>island</th>\n",
              "      <th>culmen_length_mm</th>\n",
              "      <th>culmen_depth_mm</th>\n",
              "      <th>flipper_length_mm</th>\n",
              "      <th>body_mass_g</th>\n",
              "      <th>sex</th>\n",
              "    </tr>\n",
              "  </thead>\n",
              "  <tbody>\n",
              "    <tr>\n",
              "      <th>0</th>\n",
              "      <td>Adelie</td>\n",
              "      <td>Torgersen</td>\n",
              "      <td>39.1</td>\n",
              "      <td>18.7</td>\n",
              "      <td>181.0</td>\n",
              "      <td>3750.0</td>\n",
              "      <td>MALE</td>\n",
              "    </tr>\n",
              "    <tr>\n",
              "      <th>1</th>\n",
              "      <td>Adelie</td>\n",
              "      <td>Torgersen</td>\n",
              "      <td>39.5</td>\n",
              "      <td>17.4</td>\n",
              "      <td>186.0</td>\n",
              "      <td>3800.0</td>\n",
              "      <td>FEMALE</td>\n",
              "    </tr>\n",
              "    <tr>\n",
              "      <th>2</th>\n",
              "      <td>Adelie</td>\n",
              "      <td>Torgersen</td>\n",
              "      <td>40.3</td>\n",
              "      <td>18.0</td>\n",
              "      <td>195.0</td>\n",
              "      <td>3250.0</td>\n",
              "      <td>FEMALE</td>\n",
              "    </tr>\n",
              "    <tr>\n",
              "      <th>3</th>\n",
              "      <td>Adelie</td>\n",
              "      <td>Torgersen</td>\n",
              "      <td>NaN</td>\n",
              "      <td>NaN</td>\n",
              "      <td>NaN</td>\n",
              "      <td>NaN</td>\n",
              "      <td>NaN</td>\n",
              "    </tr>\n",
              "    <tr>\n",
              "      <th>4</th>\n",
              "      <td>Adelie</td>\n",
              "      <td>Torgersen</td>\n",
              "      <td>36.7</td>\n",
              "      <td>19.3</td>\n",
              "      <td>193.0</td>\n",
              "      <td>3450.0</td>\n",
              "      <td>FEMALE</td>\n",
              "    </tr>\n",
              "  </tbody>\n",
              "</table>\n",
              "</div>"
            ],
            "text/plain": [
              "  species     island  culmen_length_mm  ...  flipper_length_mm  body_mass_g     sex\n",
              "0  Adelie  Torgersen              39.1  ...              181.0       3750.0    MALE\n",
              "1  Adelie  Torgersen              39.5  ...              186.0       3800.0  FEMALE\n",
              "2  Adelie  Torgersen              40.3  ...              195.0       3250.0  FEMALE\n",
              "3  Adelie  Torgersen               NaN  ...                NaN          NaN     NaN\n",
              "4  Adelie  Torgersen              36.7  ...              193.0       3450.0  FEMALE\n",
              "\n",
              "[5 rows x 7 columns]"
            ]
          },
          "metadata": {},
          "execution_count": 24
        }
      ]
    },
    {
      "cell_type": "markdown",
      "metadata": {
        "id": "sJCg2WTZ09Uc"
      },
      "source": [
        "Reduzimos o dataset para que contenha apenas as colunas ***species*** e ***flipper_length_mm***"
      ]
    },
    {
      "cell_type": "code",
      "metadata": {
        "colab": {
          "base_uri": "https://localhost:8080/",
          "height": 204
        },
        "id": "1e1fKut5xgue",
        "outputId": "e6b03264-4aaa-49b6-e445-9f838d09aaea"
      },
      "source": [
        "df = df.drop(['island','culmen_length_mm','culmen_depth_mm','body_mass_g','sex'],axis=1) #drop das outras colunas\n",
        "df = df.dropna() # drop do NaN\n",
        "df.head()"
      ],
      "execution_count": null,
      "outputs": [
        {
          "output_type": "execute_result",
          "data": {
            "text/html": [
              "<div>\n",
              "<style scoped>\n",
              "    .dataframe tbody tr th:only-of-type {\n",
              "        vertical-align: middle;\n",
              "    }\n",
              "\n",
              "    .dataframe tbody tr th {\n",
              "        vertical-align: top;\n",
              "    }\n",
              "\n",
              "    .dataframe thead th {\n",
              "        text-align: right;\n",
              "    }\n",
              "</style>\n",
              "<table border=\"1\" class=\"dataframe\">\n",
              "  <thead>\n",
              "    <tr style=\"text-align: right;\">\n",
              "      <th></th>\n",
              "      <th>species</th>\n",
              "      <th>flipper_length_mm</th>\n",
              "    </tr>\n",
              "  </thead>\n",
              "  <tbody>\n",
              "    <tr>\n",
              "      <th>0</th>\n",
              "      <td>Adelie</td>\n",
              "      <td>181.0</td>\n",
              "    </tr>\n",
              "    <tr>\n",
              "      <th>1</th>\n",
              "      <td>Adelie</td>\n",
              "      <td>186.0</td>\n",
              "    </tr>\n",
              "    <tr>\n",
              "      <th>2</th>\n",
              "      <td>Adelie</td>\n",
              "      <td>195.0</td>\n",
              "    </tr>\n",
              "    <tr>\n",
              "      <th>4</th>\n",
              "      <td>Adelie</td>\n",
              "      <td>193.0</td>\n",
              "    </tr>\n",
              "    <tr>\n",
              "      <th>5</th>\n",
              "      <td>Adelie</td>\n",
              "      <td>190.0</td>\n",
              "    </tr>\n",
              "  </tbody>\n",
              "</table>\n",
              "</div>"
            ],
            "text/plain": [
              "  species  flipper_length_mm\n",
              "0  Adelie              181.0\n",
              "1  Adelie              186.0\n",
              "2  Adelie              195.0\n",
              "4  Adelie              193.0\n",
              "5  Adelie              190.0"
            ]
          },
          "metadata": {},
          "execution_count": 25
        }
      ]
    },
    {
      "cell_type": "markdown",
      "metadata": {
        "id": "KDNkGxR61Pez"
      },
      "source": [
        "Para possibilitar a utilização dos algoritmos trocamos os dados da coluna ***species*** para 1 quando o penguin é da espécie Gentoo e 0 para as demais."
      ]
    },
    {
      "cell_type": "code",
      "metadata": {
        "colab": {
          "base_uri": "https://localhost:8080/",
          "height": 419
        },
        "id": "njWfEvuVxrAU",
        "outputId": "5fbfe7df-49ea-4965-82a8-e97c8accf887"
      },
      "source": [
        "df.loc[df['species'] != 'Gentoo','species'] = 0\n",
        "df.loc[df['species'] == 'Gentoo','species'] = 1\n",
        "df"
      ],
      "execution_count": null,
      "outputs": [
        {
          "output_type": "execute_result",
          "data": {
            "text/html": [
              "<div>\n",
              "<style scoped>\n",
              "    .dataframe tbody tr th:only-of-type {\n",
              "        vertical-align: middle;\n",
              "    }\n",
              "\n",
              "    .dataframe tbody tr th {\n",
              "        vertical-align: top;\n",
              "    }\n",
              "\n",
              "    .dataframe thead th {\n",
              "        text-align: right;\n",
              "    }\n",
              "</style>\n",
              "<table border=\"1\" class=\"dataframe\">\n",
              "  <thead>\n",
              "    <tr style=\"text-align: right;\">\n",
              "      <th></th>\n",
              "      <th>species</th>\n",
              "      <th>flipper_length_mm</th>\n",
              "    </tr>\n",
              "  </thead>\n",
              "  <tbody>\n",
              "    <tr>\n",
              "      <th>0</th>\n",
              "      <td>0</td>\n",
              "      <td>181.0</td>\n",
              "    </tr>\n",
              "    <tr>\n",
              "      <th>1</th>\n",
              "      <td>0</td>\n",
              "      <td>186.0</td>\n",
              "    </tr>\n",
              "    <tr>\n",
              "      <th>2</th>\n",
              "      <td>0</td>\n",
              "      <td>195.0</td>\n",
              "    </tr>\n",
              "    <tr>\n",
              "      <th>4</th>\n",
              "      <td>0</td>\n",
              "      <td>193.0</td>\n",
              "    </tr>\n",
              "    <tr>\n",
              "      <th>5</th>\n",
              "      <td>0</td>\n",
              "      <td>190.0</td>\n",
              "    </tr>\n",
              "    <tr>\n",
              "      <th>...</th>\n",
              "      <td>...</td>\n",
              "      <td>...</td>\n",
              "    </tr>\n",
              "    <tr>\n",
              "      <th>338</th>\n",
              "      <td>1</td>\n",
              "      <td>214.0</td>\n",
              "    </tr>\n",
              "    <tr>\n",
              "      <th>340</th>\n",
              "      <td>1</td>\n",
              "      <td>215.0</td>\n",
              "    </tr>\n",
              "    <tr>\n",
              "      <th>341</th>\n",
              "      <td>1</td>\n",
              "      <td>222.0</td>\n",
              "    </tr>\n",
              "    <tr>\n",
              "      <th>342</th>\n",
              "      <td>1</td>\n",
              "      <td>212.0</td>\n",
              "    </tr>\n",
              "    <tr>\n",
              "      <th>343</th>\n",
              "      <td>1</td>\n",
              "      <td>213.0</td>\n",
              "    </tr>\n",
              "  </tbody>\n",
              "</table>\n",
              "<p>342 rows × 2 columns</p>\n",
              "</div>"
            ],
            "text/plain": [
              "    species  flipper_length_mm\n",
              "0         0              181.0\n",
              "1         0              186.0\n",
              "2         0              195.0\n",
              "4         0              193.0\n",
              "5         0              190.0\n",
              "..      ...                ...\n",
              "338       1              214.0\n",
              "340       1              215.0\n",
              "341       1              222.0\n",
              "342       1              212.0\n",
              "343       1              213.0\n",
              "\n",
              "[342 rows x 2 columns]"
            ]
          },
          "metadata": {},
          "execution_count": 26
        }
      ]
    },
    {
      "cell_type": "markdown",
      "metadata": {
        "id": "DjmONlKV2Fa3"
      },
      "source": [
        "Agora dividimos o dataset em dois conjuntos, conjunto de treino e conjunto de teste, além disso também normalizamos os valores de X para o intervalo \\[0,1\\] para que tenhamos um espaço menor de busca."
      ]
    },
    {
      "cell_type": "code",
      "metadata": {
        "id": "c84YVyNfxt6Y"
      },
      "source": [
        "y = df['species']\n",
        "X = df.drop('species',axis=1)\n",
        "\n",
        "X_train, X_test, y_train, y_test = train_test_split( X,y, test_size=0.25, shuffle=True,random_state = 42)\n",
        "\n",
        "scaler = MinMaxScaler()\n",
        "scaler.fit(X_train)\n",
        "X_train = scaler.transform(X_train)\n",
        "X_test = scaler.transform(X_test)\n",
        "\n",
        "y_train = y_train.astype('int')\n",
        "y_test = y_test.astype('int')"
      ],
      "execution_count": null,
      "outputs": []
    },
    {
      "cell_type": "markdown",
      "metadata": {
        "id": "6iuQcqHu27l8"
      },
      "source": [
        "Agora vamos a parte dos algoritmos em si.\n",
        "\n",
        "Aqui criamos a função que gera os estado adjacentes no espaço de busca. Ela recebe como entrada o estado atual, o tamanho do passo e os limites de minimo e máximo. Retorna uma lista de estados adjacentes."
      ]
    },
    {
      "cell_type": "code",
      "metadata": {
        "colab": {
          "base_uri": "https://localhost:8080/"
        },
        "id": "mTezaISjyBkA",
        "outputId": "d22ba463-b416-4726-ed08-a8fa4b3192ba"
      },
      "source": [
        "def adjacencies(current_state, step = 0.1,min = -5, max = 5):\n",
        "  s = current_state.shape[0]\n",
        "  adjacencies = []\n",
        "\n",
        "  for i in range(s):\n",
        "    aux = current_state.tolist()\n",
        "\n",
        "    # estados + passo\n",
        "    aux[i] = aux[i]+step\n",
        "    if aux[i] <= max:\n",
        "      # adiciona na lista de saída\n",
        "      adjacencies.append(np.array(aux))\n",
        "\n",
        "    aux = current_state.tolist()\n",
        "      \n",
        "    # estados - passo \n",
        "    aux[i] = aux[i]-step\n",
        "\n",
        "    if aux[i] >= min:\n",
        "      # adiciona na lista de saída \n",
        "      adjacencies.append(np.array(aux))  \n",
        "  return adjacencies\n",
        "\n",
        "adjacencies(np.array([0,0]))"
      ],
      "execution_count": null,
      "outputs": [
        {
          "output_type": "execute_result",
          "data": {
            "text/plain": [
              "[array([0.1, 0. ]),\n",
              " array([-0.1,  0. ]),\n",
              " array([0. , 0.1]),\n",
              " array([ 0. , -0.1])]"
            ]
          },
          "metadata": {},
          "execution_count": 28
        }
      ]
    },
    {
      "cell_type": "markdown",
      "metadata": {
        "id": "KPhIMW5U4Ctl"
      },
      "source": [
        "Criamos uma função para calcular a precisão da regressão encontrada.\n",
        "\n",
        "Recebe como entrada o conjunto de teste, os pesos da regressão e seu valor de viés. Retorna o valor da acurácia."
      ]
    },
    {
      "cell_type": "code",
      "metadata": {
        "colab": {
          "base_uri": "https://localhost:8080/"
        },
        "id": "mReeJq_FyEpR",
        "outputId": "7e286e72-5b65-4433-d28c-3f6d70e85af1"
      },
      "source": [
        "def accuracy(X_test, y_test, Weights, bias):\n",
        "\n",
        "  #calcula as predições \n",
        "  y_hat = 1/(1+np.exp(-(X_test @ Weights + bias)))\n",
        "\n",
        "  #bináriza a saida\n",
        "  y_hat[ y_hat >= 0.5 ] = 1\n",
        "  y_hat[ y_hat < 0.5 ] = 0\n",
        "\n",
        "  #calcula e retorna a acurácia\n",
        "  return accuracy_score(y_test,y_hat)\n",
        "\n",
        "accuracy(X_test,y_test,np.array([7]),-4)"
      ],
      "execution_count": null,
      "outputs": [
        {
          "output_type": "execute_result",
          "data": {
            "text/plain": [
              "0.9883720930232558"
            ]
          },
          "metadata": {},
          "execution_count": 29
        }
      ]
    },
    {
      "cell_type": "markdown",
      "metadata": {
        "id": "5CsRF5JO5WMw"
      },
      "source": [
        "### BFS\n",
        "\n",
        "Para o trabalho deveriamos escoher dois algoritmos de busca em grafos, uma busca cega e uma informada.\n",
        "\n",
        "O para a busca cega escolhemos o algoritmo de Busca em Largura (BFS). Esse algoritmo foi abordado pois para nosso espaço de busca é mais interessante procurar um os estados finais de maneira simétrica em relação ao ponto inicial, pois queremos que todos os parametros da regressão sejam alterados, caso utilizássemos uma DFS buscaríamos primeiro todos os valores de um único parametro antes que um segundo fosse alterado."
      ]
    },
    {
      "cell_type": "markdown",
      "metadata": {
        "id": "TtHzX_kQ7kF2"
      },
      "source": [
        "Criamos uma função adaptada de BFS que utiliza o conjunto de treino para verificar se um estado final foi encontrado. O estado final é definido pelos valores que geram uma regressão com acurácia maior que a definida na entrada da função.\n",
        "\n",
        "A função recebe como entrada o conjunto de treino, o estado inicial, o valor do passo para gerar o estado de busca e a acurácia procurada (define o estado final)."
      ]
    },
    {
      "cell_type": "code",
      "metadata": {
        "id": "FfL2wIK4yIjQ"
      },
      "source": [
        "def bfs( X_train, Y_train, first=([0,0,0,0,0]), step=0.1, acc=0.9):\n",
        "  # inicializando variaveis\n",
        "  queue = []\n",
        "  visited={}\n",
        "  queue.append(np.array(first))\n",
        "  count = 0\n",
        "  best = [0 , first]\n",
        "\n",
        "  #bfs\n",
        "  while bool(queue) and count<10**7:\n",
        "    current = queue.pop(0)\n",
        "    cur_acc = accuracy(X_train, Y_train, current[:-1], current[-1])\n",
        "    if(cur_acc > best[0]):\n",
        "      best[0] = cur_acc\n",
        "      best[1] = current\n",
        "    try:\n",
        "      visited[str(current)] == 1\n",
        "    except:\n",
        "      # print(current)\n",
        "      visited[str(current)] = 1\n",
        "      if cur_acc >= acc:\n",
        "        print(\"N° de estados visitados: %d\" % count)\n",
        "        print(\"Acurácia atingida: %f\" % cur_acc);\n",
        "        return current\n",
        "    \n",
        "      next_states = adjacencies(current, step, min=-15, max=15)\n",
        "      queue.extend(next_states) \n",
        "      count += 1\n",
        "\n",
        "  print(\"Número máximo de iterações atingido\")\n",
        "  print(\"N° de estados visitados: %d\" % count)\n",
        "  print(\"Acurácia máxima: %f\" % best[0])\n",
        "  return best [1]"
      ],
      "execution_count": null,
      "outputs": []
    },
    {
      "cell_type": "markdown",
      "metadata": {
        "id": "hgkB13l79Jxi"
      },
      "source": [
        "Rodando a BFS no conjunto de treino e começando do nó \\[0,0\\] obtemos o seguinte resultado:"
      ]
    },
    {
      "cell_type": "code",
      "metadata": {
        "colab": {
          "base_uri": "https://localhost:8080/"
        },
        "id": "GGWJfh6n9Hfp",
        "outputId": "bf4dc053-7b95-4561-9185-052ecf20ffce"
      },
      "source": [
        "resp = bfs(X_train,y_train, [0,0], step=0.3, acc=0.96)\n",
        "resp"
      ],
      "execution_count": null,
      "outputs": [
        {
          "output_type": "stream",
          "name": "stdout",
          "text": [
            "N° de estados visitados: 120\n",
            "Acurácia atingida: 0.972656\n"
          ]
        },
        {
          "output_type": "execute_result",
          "data": {
            "text/plain": [
              "array([ 1.5, -0.9])"
            ]
          },
          "metadata": {},
          "execution_count": 31
        }
      ]
    },
    {
      "cell_type": "markdown",
      "metadata": {
        "id": "l49-oGVP94BR"
      },
      "source": [
        "Para verificar se o estado final encontrado é bom, testamos sua acurácia no conjunto de teste, pois como o algoritmo nunca viu esse conjunto podemos ter a ideia da generalidade da solução."
      ]
    },
    {
      "cell_type": "code",
      "metadata": {
        "colab": {
          "base_uri": "https://localhost:8080/"
        },
        "id": "KthvGEYv9tPp",
        "outputId": "5b930b65-c807-4223-e68a-d5332c8a5137"
      },
      "source": [
        "accuracy(X_test,y_test,resp[:-1],resp[-1])"
      ],
      "execution_count": null,
      "outputs": [
        {
          "output_type": "execute_result",
          "data": {
            "text/plain": [
              "0.9883720930232558"
            ]
          },
          "metadata": {},
          "execution_count": 32
        }
      ]
    },
    {
      "cell_type": "markdown",
      "metadata": {
        "id": "qE-D2j4z84eZ"
      },
      "source": [
        "### Best First\n",
        "\n",
        "Para o algoritmo da busca informada, decidimos utilizar o algoritmo BestFirst, pois para o nosso problema não nos preocupamos com o tamanho do caminho, queremos apenas encontrar um estado final da maneira mais rápida possivel. A busca BestFirst propicia isso pois visita primeiro os estados que geram a melhor heuristica (estados mais promissores em uma abordagem gulosa).\n"
      ]
    },
    {
      "cell_type": "markdown",
      "metadata": {
        "id": "u9t4cRAaD5A5"
      },
      "source": [
        "Vamos escolher então uma função heurística apropriada para o problema. Essa função deve considerar ligeiras variações na diferença da previsão.\n",
        "Para isso utilizamos a LogLoss, que compara a saída da função logistica, um numero no intervalo \\[0,1\\], com o valor real de y(0 ou 1)."
      ]
    },
    {
      "cell_type": "markdown",
      "metadata": {
        "id": "fJFyQ4loHE4S"
      },
      "source": [
        "![image.png](data:image/png;base64,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)"
      ]
    },
    {
      "cell_type": "markdown",
      "metadata": {
        "id": "p8Ev6ce0HW0T"
      },
      "source": [
        "Desse modo, quanto mais próxima a saída da distribuição real, menor será o valor obtido na conta acima. "
      ]
    },
    {
      "cell_type": "code",
      "metadata": {
        "colab": {
          "base_uri": "https://localhost:8080/"
        },
        "id": "ViH3fMuNyOZs",
        "outputId": "0ec63573-206a-4216-c7f5-d0434e101a91"
      },
      "source": [
        "def heuristica(X_test, y_test, Weights, bias):\n",
        "\n",
        "  y_hat = 1/(1+np.exp(-(X_test @ Weights +bias)))\n",
        "  \n",
        "  \n",
        "  return log_loss(y_test,y_hat)\n",
        "\n",
        "heuristica(X_test,y_test,np.array([3.5]),-2)"
      ],
      "execution_count": null,
      "outputs": [
        {
          "output_type": "execute_result",
          "data": {
            "text/plain": [
              "0.380793237593342"
            ]
          },
          "metadata": {},
          "execution_count": 33
        }
      ]
    },
    {
      "cell_type": "code",
      "metadata": {
        "id": "1dm2TJQgyS9L"
      },
      "source": [
        "def bestFirst(X_train, y_train, first=([0,0,0,0,0]), step=0.1, acc=0.9):\n",
        "  visited={str(np.array(first)):1}\n",
        "  best = [0, first, 10**8]\n",
        "  queue = PriorityQueue()\n",
        "  queue.put((10**8,first))\n",
        "  print(queue)\n",
        "  count = 0\n",
        "  while (not queue.empty()) and count<10**5:\n",
        "    current = queue.get()\n",
        "    cur_acc = accuracy(X_train, y_train, current[1][:-1], current[1][-1])\n",
        "\n",
        "    # define melhor estado\n",
        "    if(cur_acc>=best[0]):\n",
        "      if(cur_acc==best[0]):\n",
        "        if(current[0]<best[2]):\n",
        "          best[1] = current[1]\n",
        "          best[0] = cur_acc\n",
        "          best[2] = current[0]\n",
        "          print(\"Acc: %f -- Estado: %s\" % (best[0], str(best[1])))\n",
        "      else:\n",
        "        best[1] = current[1]\n",
        "        best[0] = cur_acc\n",
        "        best[2] = current[0]\n",
        "        print(\"Acc: %f -- Estado: %s\" % (best[0], str(best[1])))\n",
        "\n",
        "    loss = current[0]\n",
        "    current = np.array(current[-1])\n",
        "   \n",
        "    #verifica se é estado final\n",
        "    if  cur_acc > acc:\n",
        "      print(\"N° de estados visitados: %d\" % count)\n",
        "      print(\"Loss: %f -- Acc: %f\" % (loss, cur_acc))\n",
        "      return current\n",
        "    \n",
        "    #calcula próximos estados\n",
        "    next_states = adjacencies(current, step, min=-15, max=15)\n",
        "    for state in next_states:\n",
        "      try:\n",
        "        visited[str(state)] == 0\n",
        "      except:\n",
        "        visited[str(state)] = 1\n",
        "        heu = heuristica(X_train, y_train, state[:-1], state[-1])\n",
        "        queue.put((heu, state.tolist())) \n",
        "    count += 1\n",
        "\n",
        "  print(\"Número máximo de iterações atingido %d\" %count)\n",
        "  return best[1]"
      ],
      "execution_count": null,
      "outputs": []
    },
    {
      "cell_type": "markdown",
      "metadata": {
        "id": "Q2SuN88FHvtF"
      },
      "source": [
        "Vamos rodar a BestFirst."
      ]
    },
    {
      "cell_type": "code",
      "metadata": {
        "colab": {
          "base_uri": "https://localhost:8080/"
        },
        "id": "nZbmdyYXFHPM",
        "outputId": "b49363b8-8c7d-4c8b-a63e-81d1b33cba89"
      },
      "source": [
        "resp = bestFirst(X_train,y_train,[0,0], step=0.3, acc=0.96)\n",
        "resp"
      ],
      "execution_count": null,
      "outputs": [
        {
          "output_type": "stream",
          "name": "stdout",
          "text": [
            "<queue.PriorityQueue object at 0x7f80a71acd50>\n",
            "Acc: 0.367188 -- Estado: [0, 0]\n",
            "Acc: 0.632812 -- Estado: [0.0, -0.3]\n",
            "Acc: 0.652344 -- Estado: [0.3, -0.3]\n",
            "Acc: 0.652344 -- Estado: [0.6, -0.6]\n",
            "Acc: 0.929688 -- Estado: [0.8999999999999999, -0.6]\n",
            "Acc: 0.972656 -- Estado: [1.5, -0.8999999999999999]\n",
            "N° de estados visitados: 8\n",
            "Loss: 0.542857 -- Acc: 0.972656\n"
          ]
        },
        {
          "output_type": "execute_result",
          "data": {
            "text/plain": [
              "array([ 1.5, -0.9])"
            ]
          },
          "metadata": {},
          "execution_count": 35
        }
      ]
    },
    {
      "cell_type": "markdown",
      "metadata": {
        "id": "21y3LD5dH2wk"
      },
      "source": [
        "Rodando, obtemos um resultado aceitável de maneira muito mais rápida do que utilizando a BFS."
      ]
    },
    {
      "cell_type": "markdown",
      "metadata": {
        "id": "5GjqjNa7J6WW"
      },
      "source": [
        "## Outros Experimentos"
      ]
    },
    {
      "cell_type": "markdown",
      "metadata": {
        "id": "NwfJLiIxMGrn"
      },
      "source": [
        "Podemos aplicar o método em outros datasets e conferir o resultado"
      ]
    },
    {
      "cell_type": "markdown",
      "metadata": {
        "id": "9H_wZgGcMKuR"
      },
      "source": [
        "### Classificando Espécies de flores no Dataset Iris"
      ]
    },
    {
      "cell_type": "markdown",
      "metadata": {
        "id": "8z3ZrZ21MO_a"
      },
      "source": [
        "Este é um dataset clássico com espécies de flor Iris. está disponível para download em https://www.kaggle.com/uciml/iris e o arquivo utilizado aqui é Iris.csv"
      ]
    },
    {
      "cell_type": "markdown",
      "metadata": {
        "id": "mR-L7uhSMop-"
      },
      "source": [
        "O que iremos fazer é baseado nas dimensões das flores, realizar uma classificação com regressão logística se a flor é uma Iris-virginica ou não."
      ]
    },
    {
      "cell_type": "code",
      "metadata": {
        "colab": {
          "base_uri": "https://localhost:8080/",
          "height": 204
        },
        "id": "gXdlAadrM-or",
        "outputId": "08e0735e-58b1-43b8-d675-fa0bff8c43a3"
      },
      "source": [
        "import pandas as pd\n",
        "\n",
        "iris = pd.read_csv('/content/Iris.csv')\n",
        "iris.head()"
      ],
      "execution_count": null,
      "outputs": [
        {
          "output_type": "execute_result",
          "data": {
            "text/html": [
              "<div>\n",
              "<style scoped>\n",
              "    .dataframe tbody tr th:only-of-type {\n",
              "        vertical-align: middle;\n",
              "    }\n",
              "\n",
              "    .dataframe tbody tr th {\n",
              "        vertical-align: top;\n",
              "    }\n",
              "\n",
              "    .dataframe thead th {\n",
              "        text-align: right;\n",
              "    }\n",
              "</style>\n",
              "<table border=\"1\" class=\"dataframe\">\n",
              "  <thead>\n",
              "    <tr style=\"text-align: right;\">\n",
              "      <th></th>\n",
              "      <th>Id</th>\n",
              "      <th>SepalLengthCm</th>\n",
              "      <th>SepalWidthCm</th>\n",
              "      <th>PetalLengthCm</th>\n",
              "      <th>PetalWidthCm</th>\n",
              "      <th>Species</th>\n",
              "    </tr>\n",
              "  </thead>\n",
              "  <tbody>\n",
              "    <tr>\n",
              "      <th>0</th>\n",
              "      <td>1</td>\n",
              "      <td>5.1</td>\n",
              "      <td>3.5</td>\n",
              "      <td>1.4</td>\n",
              "      <td>0.2</td>\n",
              "      <td>Iris-setosa</td>\n",
              "    </tr>\n",
              "    <tr>\n",
              "      <th>1</th>\n",
              "      <td>2</td>\n",
              "      <td>4.9</td>\n",
              "      <td>3.0</td>\n",
              "      <td>1.4</td>\n",
              "      <td>0.2</td>\n",
              "      <td>Iris-setosa</td>\n",
              "    </tr>\n",
              "    <tr>\n",
              "      <th>2</th>\n",
              "      <td>3</td>\n",
              "      <td>4.7</td>\n",
              "      <td>3.2</td>\n",
              "      <td>1.3</td>\n",
              "      <td>0.2</td>\n",
              "      <td>Iris-setosa</td>\n",
              "    </tr>\n",
              "    <tr>\n",
              "      <th>3</th>\n",
              "      <td>4</td>\n",
              "      <td>4.6</td>\n",
              "      <td>3.1</td>\n",
              "      <td>1.5</td>\n",
              "      <td>0.2</td>\n",
              "      <td>Iris-setosa</td>\n",
              "    </tr>\n",
              "    <tr>\n",
              "      <th>4</th>\n",
              "      <td>5</td>\n",
              "      <td>5.0</td>\n",
              "      <td>3.6</td>\n",
              "      <td>1.4</td>\n",
              "      <td>0.2</td>\n",
              "      <td>Iris-setosa</td>\n",
              "    </tr>\n",
              "  </tbody>\n",
              "</table>\n",
              "</div>"
            ],
            "text/plain": [
              "   Id  SepalLengthCm  SepalWidthCm  PetalLengthCm  PetalWidthCm      Species\n",
              "0   1            5.1           3.5            1.4           0.2  Iris-setosa\n",
              "1   2            4.9           3.0            1.4           0.2  Iris-setosa\n",
              "2   3            4.7           3.2            1.3           0.2  Iris-setosa\n",
              "3   4            4.6           3.1            1.5           0.2  Iris-setosa\n",
              "4   5            5.0           3.6            1.4           0.2  Iris-setosa"
            ]
          },
          "metadata": {},
          "execution_count": 37
        }
      ]
    },
    {
      "cell_type": "code",
      "metadata": {
        "id": "oFfcyAPrNFye"
      },
      "source": [
        "#preparando o dataset\n",
        "iris.loc[iris['Species'] != 'Iris-virginica','Species'] = 0\n",
        "iris.loc[iris['Species'] == 'Iris-virginica','Species'] = 1"
      ],
      "execution_count": null,
      "outputs": []
    },
    {
      "cell_type": "code",
      "metadata": {
        "id": "1PTW4PvHNIAH"
      },
      "source": [
        "y = iris['Species']\n",
        "X = iris.drop('Species',axis=1).drop('Id',axis=1)"
      ],
      "execution_count": null,
      "outputs": []
    },
    {
      "cell_type": "code",
      "metadata": {
        "id": "oXm764bmNRwQ"
      },
      "source": [
        "#dividindo e normalizando\n",
        "\n",
        "X_train, X_test, y_train, y_test = train_test_split( X,y, test_size=0.25, shuffle=True,random_state = 42)\n",
        "\n",
        "scaler = MinMaxScaler()\n",
        "scaler.fit(X_train)\n",
        "X_train = scaler.transform(X_train)\n",
        "X_test = scaler.transform(X_test)\n",
        "\n",
        "y_train = y_train.astype('int')\n",
        "y_test = y_test.astype('int')"
      ],
      "execution_count": null,
      "outputs": []
    },
    {
      "cell_type": "code",
      "metadata": {
        "colab": {
          "base_uri": "https://localhost:8080/"
        },
        "id": "E69SdVOdNVPx",
        "outputId": "8e6b642a-2d18-42f7-bcf7-f285abb9e428"
      },
      "source": [
        "#aplicando a BFS\n",
        "resp = bfs(X_train,y_train, [0,0,0,0,0], step=0.5, acc=0.96)\n",
        "resp"
      ],
      "execution_count": null,
      "outputs": [
        {
          "output_type": "stream",
          "name": "stdout",
          "text": [
            "N° de estados visitados: 6115\n",
            "Acurácia atingida: 0.964286\n"
          ]
        },
        {
          "output_type": "execute_result",
          "data": {
            "text/plain": [
              "array([-0.5,  0. ,  1. ,  1. , -1. ])"
            ]
          },
          "metadata": {},
          "execution_count": 43
        }
      ]
    },
    {
      "cell_type": "code",
      "metadata": {
        "colab": {
          "base_uri": "https://localhost:8080/"
        },
        "id": "Ds0AR4Y8NjZl",
        "outputId": "50e94250-b2bf-4a7b-a538-6d082b8f196a"
      },
      "source": [
        "accuracy(X_test,y_test,resp[:-1],resp[-1])"
      ],
      "execution_count": null,
      "outputs": [
        {
          "output_type": "execute_result",
          "data": {
            "text/plain": [
              "1.0"
            ]
          },
          "metadata": {},
          "execution_count": 44
        }
      ]
    },
    {
      "cell_type": "code",
      "metadata": {
        "colab": {
          "base_uri": "https://localhost:8080/"
        },
        "id": "caaHqvvqNosE",
        "outputId": "9f7a2d11-9449-4a0f-c95a-cc654b5aeb67"
      },
      "source": [
        "#aplicando a best First\n",
        "resp = bestFirst(X_train,y_train,[0,0,0,0,0], step=0.3, acc=0.96)\n",
        "resp"
      ],
      "execution_count": null,
      "outputs": [
        {
          "output_type": "stream",
          "name": "stdout",
          "text": [
            "<queue.PriorityQueue object at 0x7f80a71d29d0>\n",
            "Acc: 0.339286 -- Estado: [0, 0, 0, 0, 0]\n",
            "Acc: 0.660714 -- Estado: [0.0, 0.0, 0.0, 0.0, -0.3]\n",
            "Acc: 0.687500 -- Estado: [0.0, 0.0, 0.0, 0.3, -0.3]\n",
            "Acc: 0.687500 -- Estado: [0.0, 0.0, 0.0, 0.6, -0.6]\n",
            "Acc: 0.946429 -- Estado: [0.0, 0.0, 0.0, 0.8999999999999999, -0.6]\n",
            "Acc: 0.946429 -- Estado: [0.0, 0.0, 0.0, 1.8, -1.2]\n",
            "Acc: 0.946429 -- Estado: [0.0, 0.0, 0.0, 2.6999999999999997, -1.8]\n",
            "Acc: 0.946429 -- Estado: [0.0, 0.0, 0.0, 2.9999999999999996, -2.1]\n",
            "Acc: 0.946429 -- Estado: [0.0, 0.0, 0.0, 3.2999999999999994, -2.1]\n",
            "Acc: 0.946429 -- Estado: [0.0, 0.0, 0.0, 3.599999999999999, -2.4]\n",
            "Acc: 0.946429 -- Estado: [0.0, 0.0, 0.0, 3.899999999999999, -2.6999999999999997]\n",
            "Acc: 0.946429 -- Estado: [0.0, 0.0, 0.0, 4.199999999999999, -2.6999999999999997]\n",
            "Acc: 0.946429 -- Estado: [0.0, 0.0, 0.0, 4.499999999999999, -2.9999999999999996]\n",
            "Acc: 0.946429 -- Estado: [0.0, 0.0, 0.0, 4.799999999999999, -3.2999999999999994]\n",
            "Acc: 0.946429 -- Estado: [0.0, 0.0, 0.0, 5.099999999999999, -3.2999999999999994]\n",
            "Acc: 0.946429 -- Estado: [0.0, 0.0, 0.0, 5.399999999999999, -3.599999999999999]\n",
            "Acc: 0.946429 -- Estado: [0.0, 0.0, 0.0, 5.699999999999998, -3.599999999999999]\n",
            "Acc: 0.946429 -- Estado: [0.0, -0.3, 0.0, 5.699999999999998, -3.599999999999999]\n",
            "Acc: 0.946429 -- Estado: [0.0, -0.3, 0.0, 5.999999999999998, -3.599999999999999]\n",
            "Acc: 0.955357 -- Estado: [0.0, -0.3, 0.0, 5.999999999999998, -3.899999999999999]\n",
            "Acc: 0.955357 -- Estado: [0.0, -0.3, 0.0, 6.899999999999998, -4.499999999999999]\n",
            "Acc: 0.955357 -- Estado: [0.0, -1.2, 0.3, 8.7, -5.099999999999999]\n",
            "Acc: 0.955357 -- Estado: [0.0, -1.5, 0.6, 9.0, -5.399999999999999]\n",
            "Acc: 0.955357 -- Estado: [0.0, -1.8, 0.8999999999999999, 9.0, -5.699999999999998]\n",
            "Acc: 0.955357 -- Estado: [0.0, -1.8, 0.8999999999999999, 9.3, -5.699999999999998]\n",
            "Acc: 0.955357 -- Estado: [0.0, -1.8, 1.2, 9.3, -5.999999999999998]\n",
            "Acc: 0.955357 -- Estado: [0.0, -2.1, 1.2, 9.600000000000001, -5.999999999999998]\n",
            "Acc: 0.955357 -- Estado: [0.0, -2.1, 1.2, 9.600000000000001, -6.299999999999998]\n",
            "Acc: 0.955357 -- Estado: [0.0, -2.1, 1.5, 9.600000000000001, -6.299999999999998]\n",
            "Acc: 0.955357 -- Estado: [0.0, -2.1, 1.5, 9.900000000000002, -6.599999999999998]\n",
            "Acc: 0.955357 -- Estado: [0.0, -2.1, 1.8, 9.900000000000002, -6.599999999999998]\n",
            "Acc: 0.955357 -- Estado: [0.0, -2.4, 1.8, 9.900000000000002, -6.599999999999998]\n",
            "Acc: 0.955357 -- Estado: [0.0, -2.4, 1.8, 10.200000000000003, -6.899999999999998]\n",
            "Acc: 0.955357 -- Estado: [0.0, -2.4, 2.1, 10.200000000000003, -6.899999999999998]\n",
            "Acc: 0.955357 -- Estado: [0.0, -2.6999999999999997, 2.1, 10.200000000000003, -6.899999999999998]\n",
            "Acc: 0.955357 -- Estado: [0.0, -2.6999999999999997, 2.4, 10.500000000000004, -7.1999999999999975]\n",
            "Acc: 0.955357 -- Estado: [0.0, -2.9999999999999996, 2.4, 10.500000000000004, -7.1999999999999975]\n",
            "Acc: 0.955357 -- Estado: [0.0, -2.9999999999999996, 2.6999999999999997, 10.800000000000004, -7.499999999999997]\n",
            "Acc: 0.955357 -- Estado: [0.0, -3.2999999999999994, 2.6999999999999997, 10.800000000000004, -7.499999999999997]\n",
            "Acc: 0.955357 -- Estado: [0.0, -3.599999999999999, 2.6999999999999997, 11.100000000000005, -7.499999999999997]\n",
            "Acc: 0.955357 -- Estado: [0.0, -3.899999999999999, 2.9999999999999996, 11.400000000000006, -7.799999999999997]\n",
            "Acc: 0.964286 -- Estado: [0.0, -4.199999999999999, 3.2999999999999994, 12.000000000000007, -8.399999999999999]\n",
            "N° de estados visitados: 93\n",
            "Loss: 0.148440 -- Acc: 0.964286\n"
          ]
        },
        {
          "output_type": "execute_result",
          "data": {
            "text/plain": [
              "array([ 0. , -4.2,  3.3, 12. , -8.4])"
            ]
          },
          "metadata": {},
          "execution_count": 45
        }
      ]
    },
    {
      "cell_type": "code",
      "metadata": {
        "colab": {
          "base_uri": "https://localhost:8080/"
        },
        "id": "B1XeBTW8NyWp",
        "outputId": "a344f0f4-9aad-4109-f797-22a82fcf6dc7"
      },
      "source": [
        "accuracy(X_test,y_test,resp[:-1],resp[-1])"
      ],
      "execution_count": null,
      "outputs": [
        {
          "output_type": "execute_result",
          "data": {
            "text/plain": [
              "0.9736842105263158"
            ]
          },
          "metadata": {},
          "execution_count": 46
        }
      ]
    },
    {
      "cell_type": "markdown",
      "metadata": {
        "id": "FpEsFKwHOSv3"
      },
      "source": [
        "Verificamos novamente que a BestFirst encontra um resultado de maneira muito mais rápida que a BFS. Os estados diferentes se devem pela simplicidade o Iris e seu pequeno número de amostras, mas é interessante notar que mesmo em uma configuração simples, a BFS precisa rodar uma grande quantidade de estados para obter uma boa acurácia"
      ]
    },
    {
      "cell_type": "markdown",
      "metadata": {
        "id": "9SgtyGRiUFid"
      },
      "source": [
        "## Conclusão\n",
        "\n",
        "Podemos ver que o método discutido é válido e encontra boas soluções para a otimização, entretando a BFS se torna rapidamente inviável conforme se aumenta o tamanho do espaço de estados, enquanto a busca heurística fornece uma possibilidade que apresenta bons resultados em bom tempo. \n",
        "\n",
        "Também é importante notar que apesar de só a regressão logística ter sido utilizada por simplicidade, o método poderia ser aplicado em qualquer modelo de ML com parâmetros, como uma regressão linear."
      ]
    },
    {
      "cell_type": "markdown",
      "metadata": {
        "id": "VJVZ5hhBUbof"
      },
      "source": [
        "## Referências\n",
        "\n",
        "\n",
        "\n",
        "- https://www.youtube.com/watch?v=BbYV8UfMJSA&list=PLl8OlHZGYOQ7bkVbuRthEsaLr7bONzbXS&index=4\n",
        "- https://d2l.ai/chapter_linear-networks/softmax-regression.html"
      ]
    }
  ]
}